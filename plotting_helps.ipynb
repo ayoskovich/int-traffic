{
 "cells": [
  {
   "cell_type": "code",
   "execution_count": null,
   "metadata": {},
   "outputs": [],
   "source": [
    "def draw_split(var, val, perc, dat):\n",
    "    \"\"\" Draw the split plot. \n",
    "    \n",
    "    var: Categorical variable to check against percentile\n",
    "    val: Quantitative variable to plot on yaxis of boxplots\n",
    "    perc: Percentile to break the axis on\n",
    "    \"\"\"\n",
    "        \n",
    "    # Compute is above\n",
    "    dat['is_above'] = (\n",
    "        dat\n",
    "        .groupby(var)[val]\n",
    "        .apply(lambda x: is_above(x, perc))\n",
    "        .values\n",
    "    )\n",
    "    \n",
    "    \n",
    "    # Draw plot\n",
    "    g = (\n",
    "        sns.FacetGrid(dat, row=\"is_above\", \n",
    "        height=3, aspect=4, \n",
    "        sharex=True, sharey=False,\n",
    "        row_order=[True, False])\n",
    "    );\n",
    "    \n",
    "    (\n",
    "        g.map(sns.boxplot, var, val, \n",
    "              showfliers=False, \n",
    "              order=set(clean[var]))\n",
    "        .set_titles(\"Above 75: {row_name}\")\n",
    "    );\n",
    "    \n",
    "    dat.drop(columns=['is_above'], inplace=True)"
   ]
  }
 ],
 "metadata": {
  "kernelspec": {
   "display_name": "Python 3",
   "language": "python",
   "name": "python3"
  },
  "language_info": {
   "codemirror_mode": {
    "name": "ipython",
    "version": 3
   },
   "file_extension": ".py",
   "mimetype": "text/x-python",
   "name": "python",
   "nbconvert_exporter": "python",
   "pygments_lexer": "ipython3",
   "version": "3.8.2"
  }
 },
 "nbformat": 4,
 "nbformat_minor": 4
}
