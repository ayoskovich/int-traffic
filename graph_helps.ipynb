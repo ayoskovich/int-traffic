{
 "cells": [
  {
   "cell_type": "code",
   "execution_count": 1,
   "metadata": {},
   "outputs": [],
   "source": [
    "def bucket_dist(g_var, x_var, all_bins, tar_bin, label, df):\n",
    "    \"\"\" Buckets and filters values.\n",
    "    \n",
    "    params:\n",
    "        g_var (string): grouping variable\n",
    "        x_var (string): variable to put in buckets\n",
    "        all_bins (np.arange): Bins\n",
    "        tar_bin (pd.Interval): Interval to grab\n",
    "        label (string): Name for group assignment\n",
    "        df (pd.DataFrame): Input dataframe\n",
    "        \n",
    "    returns (pd.DataFrame)\n",
    "    \"\"\"\n",
    "    return (\n",
    "        df.groupby(g_var)[x_var]\n",
    "        .value_counts(normalize=True, bins=all_bins)\n",
    "        [:, tar_bin]\n",
    "        .to_frame()\n",
    "        .assign(lev = label)\n",
    "    )"
   ]
  }
 ],
 "metadata": {
  "kernelspec": {
   "display_name": "Python 3",
   "language": "python",
   "name": "python3"
  },
  "language_info": {
   "codemirror_mode": {
    "name": "ipython",
    "version": 3
   },
   "file_extension": ".py",
   "mimetype": "text/x-python",
   "name": "python",
   "nbconvert_exporter": "python",
   "pygments_lexer": "ipython3",
   "version": "3.8.2"
  }
 },
 "nbformat": 4,
 "nbformat_minor": 4
}
