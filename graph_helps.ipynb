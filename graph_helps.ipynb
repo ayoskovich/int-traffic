{
 "cells": [
  {
   "cell_type": "code",
   "execution_count": 1,
   "metadata": {},
   "outputs": [],
   "source": [
    "def group_block(df, g_var, x_var, bins):\n",
    "    \"\"\"\n",
    "    params:\n",
    "        g_var (string or list of strings): Grouping variable\n",
    "        x_var (string): Target variable to bin\n",
    "        bins (np.arange): Bins to group x_var into\n",
    "        \n",
    "    returns (Series):\n",
    "        \n",
    "    \"\"\"\n",
    "    return (\n",
    "        df.groupby(g_var)[x_var]\n",
    "             .apply(lambda x: \n",
    "                     pd.cut(x, bins=bins)\n",
    "                       .value_counts(sort=False, normalize=True)\n",
    "                     )\n",
    "    )"
   ]
  }
 ],
 "metadata": {
  "kernelspec": {
   "display_name": "Python 3",
   "language": "python",
   "name": "python3"
  },
  "language_info": {
   "codemirror_mode": {
    "name": "ipython",
    "version": 3
   },
   "file_extension": ".py",
   "mimetype": "text/x-python",
   "name": "python",
   "nbconvert_exporter": "python",
   "pygments_lexer": "ipython3",
   "version": "3.8.2"
  }
 },
 "nbformat": 4,
 "nbformat_minor": 4
}
