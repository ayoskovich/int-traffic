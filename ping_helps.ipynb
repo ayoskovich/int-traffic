{
 "cells": [
  {
   "cell_type": "code",
   "execution_count": null,
   "metadata": {},
   "outputs": [],
   "source": [
    "def remove_headers(df):\n",
    "    \"\"\" Remove the records when the ping command starts. \"\"\"\n",
    "    return df[df['a'].apply(lambda x: x[:4] != 'PING')]\n",
    "\n",
    "\n",
    "def clean_time(time):\n",
    "    \"\"\" Get to the right of time=, replace whitespace. \"\"\"\n",
    "    return float(re.sub('[\\s|m|s]', '', time.split('time=')[1]))\n",
    "\n",
    "\n",
    "def clean_ts(time):\n",
    "    \"\"\"Input is a string, cleaning. \n",
    "    \n",
    "    >>> clean_ts('[1591899674.439142]')\n",
    "    datetime.datetime(2020, 6, 11, 14, 21, 14, 439142)\n",
    "    \"\"\"\n",
    "    return datetime.datetime.fromtimestamp(float(re.sub('[\\[\\]]', '', time)))\n",
    "\n",
    "\n",
    "def parse_time(df):\n",
    "    \"\"\" Grab the time of the ping and the amount of time \n",
    "    the ping took\"\"\"\n",
    "    return (\n",
    "        df\n",
    "        .assign(tstamp = df.a.apply(lambda x: clean_ts(x[:19])))\n",
    "        .assign(lat = df.b.apply(clean_time))\n",
    "    )\n",
    "\n",
    "\n",
    "def read_cleaned(n=100):\n",
    "    return (\n",
    "        pd.read_fwf('~/PING_LOG.txt', header=None, names=['a', 'b']).tail(n)\n",
    "            .pipe(remove_headers)\n",
    "            .pipe(parse_time)\n",
    "            .drop(labels=['a', 'b'], axis=1)\n",
    "    )"
   ]
  }
 ],
 "metadata": {
  "kernelspec": {
   "display_name": "Python 3",
   "language": "python",
   "name": "python3"
  },
  "language_info": {
   "codemirror_mode": {
    "name": "ipython",
    "version": 3
   },
   "file_extension": ".py",
   "mimetype": "text/x-python",
   "name": "python",
   "nbconvert_exporter": "python",
   "pygments_lexer": "ipython3",
   "version": "3.8.2"
  }
 },
 "nbformat": 4,
 "nbformat_minor": 4
}
