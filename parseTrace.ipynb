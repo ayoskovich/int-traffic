{
 "cells": [
  {
   "cell_type": "code",
   "execution_count": 99,
   "metadata": {},
   "outputs": [
    {
     "data": {
      "text/plain": [
       "['start: 15:33:47',\n",
       " 'traceroute to google.com (216.58.194.142), 64 hops max',\n",
       " '  1   192.168.1.254  1.316ms  1.881ms  1.068ms ',\n",
       " '  2   75.12.92.1  22.182ms  21.474ms  18.137ms ',\n",
       " '  3   *  71.152.134.45  1619.579ms  1898.068ms ',\n",
       " '  4   12.123.7.142  29.078ms  0.005ms  39.652ms ',\n",
       " '  5   12.122.133.45  27.729ms  1.219ms  27.187ms ',\n",
       " '  6   12.255.10.44  29.281ms  0.063ms  27.117ms ',\n",
       " '  7   *  *  * ',\n",
       " '  8   108.170.238.138  27.849ms  0.333ms  26.864ms ',\n",
       " '  9   108.170.243.165  28.434ms  108.170.244.2  0.003ms  108.170.243.165  28.225ms ',\n",
       " ' 10   209.85.241.123  29.356ms  209.85.254.94  2.599ms  209.85.241.123  25.552ms ',\n",
       " ' 11   209.85.249.19  51.129ms  0.380ms  51.256ms ',\n",
       " ' 12   209.85.250.46  50.403ms  0.436ms  50.200ms ',\n",
       " ' 13   216.239.63.206  48.156ms  108.170.228.90  1.302ms  216.239.63.206  45.911ms ',\n",
       " ' 14   108.170.252.161  49.301ms  108.170.252.129  0.182ms  108.170.252.161  49.686ms ',\n",
       " ' 15   108.170.230.117  50.612ms  1.102ms  49.235ms ',\n",
       " ' 16   216.58.194.142  47.870ms  1.357ms  46.211ms ',\n",
       " 'end: 15:34:04']"
      ]
     },
     "execution_count": 99,
     "metadata": {},
     "output_type": "execute_result"
    }
   ],
   "source": [
    "import pandas as pd\n",
    "import csv\n",
    "from functools import reduce\n",
    "\n",
    "\n",
    "def is_norm(tr):\n",
    "    \"\"\" Checks if traceroute was parsed normally. \"\"\"\n",
    "    return len(tr) == 19\n",
    "\n",
    "def makeDict(x):\n",
    "    \"\"\" Create a dictionary from a list\"\"\"\n",
    "    if len(x) > 2: raise Exception('Was only expecting 2 elements')\n",
    "    i = iter(x)\n",
    "    b = dict(zip(i, i))\n",
    "    \n",
    "    return b\n",
    "\n",
    "\n",
    "with open('FT.TXT') as f:\n",
    "    reader = csv.reader(f, delimiter='\\n')\n",
    "    dat = []\n",
    "    a = []\n",
    "    for row in reader:\n",
    "        if row != []:\n",
    "            a.extend(row)\n",
    "        elif row == []:\n",
    "            dat.append(a)\n",
    "            a = []\n",
    "\n",
    "r1 = dat[0]\n",
    "dat[0]"
   ]
  },
  {
   "cell_type": "code",
   "execution_count": 100,
   "metadata": {},
   "outputs": [
    {
     "name": "stdout",
     "output_type": "stream",
     "text": [
      "Start: start: 15:33:47, \n",
      "End: end: 15:34:04, \n",
      "Destination: traceroute to google.com (216.58.194.142), 64 hops max\n"
     ]
    },
    {
     "data": {
      "text/plain": [
       "['  1   192.168.1.254  1.316ms  1.881ms  1.068ms ',\n",
       " '  2   75.12.92.1  22.182ms  21.474ms  18.137ms ',\n",
       " '  3   *  71.152.134.45  1619.579ms  1898.068ms ',\n",
       " '  4   12.123.7.142  29.078ms  0.005ms  39.652ms ',\n",
       " '  5   12.122.133.45  27.729ms  1.219ms  27.187ms ',\n",
       " '  6   12.255.10.44  29.281ms  0.063ms  27.117ms ',\n",
       " '  7   *  *  * ',\n",
       " '  8   108.170.238.138  27.849ms  0.333ms  26.864ms ',\n",
       " '  9   108.170.243.165  28.434ms  108.170.244.2  0.003ms  108.170.243.165  28.225ms ',\n",
       " ' 10   209.85.241.123  29.356ms  209.85.254.94  2.599ms  209.85.241.123  25.552ms ',\n",
       " ' 11   209.85.249.19  51.129ms  0.380ms  51.256ms ',\n",
       " ' 12   209.85.250.46  50.403ms  0.436ms  50.200ms ',\n",
       " ' 13   216.239.63.206  48.156ms  108.170.228.90  1.302ms  216.239.63.206  45.911ms ',\n",
       " ' 14   108.170.252.161  49.301ms  108.170.252.129  0.182ms  108.170.252.161  49.686ms ',\n",
       " ' 15   108.170.230.117  50.612ms  1.102ms  49.235ms ',\n",
       " ' 16   216.58.194.142  47.870ms  1.357ms  46.211ms ']"
      ]
     },
     "execution_count": 100,
     "metadata": {},
     "output_type": "execute_result"
    }
   ],
   "source": [
    "if is_norm(r1):\n",
    "    START, END = r1[0], r1[18]\n",
    "    WHERE_TO = r1[1]\n",
    "    CHUNK = r1[2:18]\n",
    "    print('Start: {}, \\nEnd: {}, \\nDestination: {}'.format(START, END, WHERE_TO))\n",
    "CHUNK"
   ]
  },
  {
   "cell_type": "code",
   "execution_count": 101,
   "metadata": {},
   "outputs": [
    {
     "data": {
      "text/plain": [
       "{'  1': '192.168.1.254  1.316ms  1.881ms  1.068ms ',\n",
       " '  2': '75.12.92.1  22.182ms  21.474ms  18.137ms ',\n",
       " '  3': '*  71.152.134.45  1619.579ms  1898.068ms ',\n",
       " '  4': '12.123.7.142  29.078ms  0.005ms  39.652ms ',\n",
       " '  5': '12.122.133.45  27.729ms  1.219ms  27.187ms ',\n",
       " '  6': '12.255.10.44  29.281ms  0.063ms  27.117ms ',\n",
       " '  7': '*  *  * ',\n",
       " '  8': '108.170.238.138  27.849ms  0.333ms  26.864ms ',\n",
       " '  9': '108.170.243.165  28.434ms  108.170.244.2  0.003ms  108.170.243.165  28.225ms ',\n",
       " ' 10': '209.85.241.123  29.356ms  209.85.254.94  2.599ms  209.85.241.123  25.552ms ',\n",
       " ' 11': '209.85.249.19  51.129ms  0.380ms  51.256ms ',\n",
       " ' 12': '209.85.250.46  50.403ms  0.436ms  50.200ms ',\n",
       " ' 13': '216.239.63.206  48.156ms  108.170.228.90  1.302ms  216.239.63.206  45.911ms ',\n",
       " ' 14': '108.170.252.161  49.301ms  108.170.252.129  0.182ms  108.170.252.161  49.686ms ',\n",
       " ' 15': '108.170.230.117  50.612ms  1.102ms  49.235ms ',\n",
       " ' 16': '216.58.194.142  47.870ms  1.357ms  46.211ms '}"
      ]
     },
     "execution_count": 101,
     "metadata": {},
     "output_type": "execute_result"
    }
   ],
   "source": [
    "split_up = [x.split('   ') for x in CHUNK]\n",
    "result_dict = reduce(lambda a, b: {**a, **b}, [makeDict(x) for x in split_up])\n",
    "result_dict"
   ]
  },
  {
   "cell_type": "code",
   "execution_count": null,
   "metadata": {},
   "outputs": [],
   "source": []
  }
 ],
 "metadata": {
  "kernelspec": {
   "display_name": "Python 3",
   "language": "python",
   "name": "python3"
  },
  "language_info": {
   "codemirror_mode": {
    "name": "ipython",
    "version": 3
   },
   "file_extension": ".py",
   "mimetype": "text/x-python",
   "name": "python",
   "nbconvert_exporter": "python",
   "pygments_lexer": "ipython3",
   "version": "3.8.2"
  }
 },
 "nbformat": 4,
 "nbformat_minor": 4
}
