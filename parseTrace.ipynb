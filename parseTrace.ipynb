{
 "cells": [
  {
   "cell_type": "code",
   "execution_count": 48,
   "metadata": {},
   "outputs": [
    {
     "data": {
      "image/png": "[encoded data removed]",
      "text/plain": [
       "<Figure size 432x288 with 1 Axes>"
      ]
     },
     "metadata": {
      "needs_background": "light"
     },
     "output_type": "display_data"
    }
   ],
   "source": [
    "import pandas as pd\n",
    "import numpy as np\n",
    "import matplotlib.pyplot as plt\n",
    "import csv\n",
    "from functools import reduce\n",
    "from datetime import datetime\n",
    "\n",
    "%run ./trace_helps.ipynb\n",
    "\n",
    "pd.set_option('max_colwidth', 1000)\n",
    "\n",
    "with open('/home/anthony/TRACE_LOG.TXT') as f:\n",
    "    reader = csv.reader(f, delimiter='\\n')\n",
    "    dat = []\n",
    "    a = []\n",
    "    for row in reader:\n",
    "        if row != []:\n",
    "            a.extend(row)\n",
    "        elif row == []:\n",
    "            dat.append(a)\n",
    "            a = []\n",
    "\n",
    "al = []\n",
    "for i, x in enumerate(dat):\n",
    "    if is_norm(x):\n",
    "        al.append(clean_dat(x, i))\n",
    "\n",
    "        \n",
    "full = pd.concat(al).explode('times')\n",
    "full['times'] = full['times'].astype(float)\n",
    "\n",
    "\n",
    "FRONT = ['trace_id', 'start', 'end', 'trace_line']\n",
    "clean = full[FRONT + [x for x in full.columns if x not in FRONT]].drop(['trace_entry', 'whereto'], axis=1)\n",
    "\n",
    "ROUTE_TIMES = clean.drop_duplicates(subset=['trace_id']).apply(lambda x: x['end'] - x['start'], axis=1)\n",
    "plt.hist(ROUTE_TIMES / np.timedelta64(1, 's'));"
   ]
  },
  {
   "cell_type": "code",
   "execution_count": null,
   "metadata": {},
   "outputs": [],
   "source": []
  }
 ],
 "metadata": {
  "kernelspec": {
   "display_name": "Python 3",
   "language": "python",
   "name": "python3"
  },
  "language_info": {
   "codemirror_mode": {
    "name": "ipython",
    "version": 3
   },
   "file_extension": ".py",
   "mimetype": "text/x-python",
   "name": "python",
   "nbconvert_exporter": "python",
   "pygments_lexer": "ipython3",
   "version": "3.8.2"
  }
 },
 "nbformat": 4,
 "nbformat_minor": 4
}
